{
 "cells": [
  {
   "cell_type": "code",
   "execution_count": 1,
   "metadata": {},
   "outputs": [
    {
     "data": {
      "text/plain": [
       "'K:\\\\URECA'"
      ]
     },
     "execution_count": 1,
     "metadata": {},
     "output_type": "execute_result"
    }
   ],
   "source": [
    "import os \n",
    "os.getcwd()"
   ]
  },
  {
   "cell_type": "code",
   "execution_count": 3,
   "metadata": {},
   "outputs": [],
   "source": [
    "import sumy"
   ]
  },
  {
   "cell_type": "code",
   "execution_count": 9,
   "metadata": {},
   "outputs": [],
   "source": [
    "from sumy.parsers.html import HtmlParser\n",
    "from sumy.parsers.plaintext import PlaintextParser\n",
    "from sumy.nlp.tokenizers import Tokenizer\n",
    "from sumy.summarizers.lex_rank import LexRankSummarizer as LexRank\n",
    "from sumy.summarizers.luhn import LuhnSummarizer as Luhn    \n",
    "from sumy.summarizers.lsa import LsaSummarizer as LSA\n",
    "from sumy.nlp.stemmers import Stemmer\n",
    "from sumy.utils import get_stop_words\n",
    "import nltk"
   ]
  },
  {
   "cell_type": "code",
   "execution_count": 10,
   "metadata": {},
   "outputs": [],
   "source": [
    "language = \"English\"\n",
    "SENTENCES_COUNT = 1"
   ]
  },
  {
   "cell_type": "code",
   "execution_count": 55,
   "metadata": {
    "collapsed": false
   },
   "outputs": [
    {
     "name": "stdout",
     "output_type": "stream",
     "text": [
      "Original Content:\n['According to a week-long study conducted by Internet security company BitDefender, over 250,000 user names, email addresses, and passwords used for social networking sites can easily be found online.\\n', 'The study also revealed that 75 percent of social networking username and password samples collected online were identical to those used for email accounts.\\n', 'The sensitive user data was gathered from blogs, torrents, online collaboration services and other sources. It was found that 43 percent of the data was leaked from online collaboration tools while 21 percent of data was leaked from blog postings. Meanwhile, torrents and users of other social hubs were responsible for leaking 10 percent and 18 percent of user data respectively.\\n', 'BitDefender warned social media users to be careful when setting up passwords for social networking platforms and email. The researchers managed to verify the leaked email accounts and found that 75 percent of users had one common password for social networking and accessing their email. Additionally, the study revealed that 87 percent of email IDs, user names, and passwords gathered from various sources were still active.\\n', 'Cybercriminals could easily use this sensitive user data to hijack email accounts and social networking profiles and can further be used to spread spam and malware across those platforms.\\n', 'BitDefender has advised users to be extra careful while creating passwords for social networking and email accounts and avoid using the same password just for the sake of convenience. Considering the fact that online collaboration tools are not that adept in protecting sensitive user information, users have been told to be more careful the next time they decided to share their emails, user names and passwords with a third party website.\\n', 'The study conducted by BitDefender follows the release of a torrent containing a list of 171 million Facebook users, complete with their names and Facebook URLs. The security researcher who released the list for download explained that he was able to extract the names and URLs of Facebook users from a directory offered by the website itself. Facebook has maintained that the directory only contains the information users have themselves chosen to make public and can also be found via search engines.\\n']\n\ntokenized content\n['According to a week-long study conducted by Internet security company BitDefender, over 250,000 user names, email addresses, and passwords used for social networking sites can easily be found online.\\n', 'The study also revealed that 75 percent of social networking username and password samples collected online were identical to those used for email accounts.\\n', 'The sensitive user data was gathered from blogs, torrents, online collaboration services and other sources.\nIt was found that 43 percent of the data was leaked from online collaboration tools while 21 percent of data was leaked from blog postings.\nMeanwhile, torrents and users of other social hubs were responsible for leaking 10 percent and 18 percent of user data respectively.\\n', 'BitDefender warned social media users to be careful when setting up passwords for social networking platforms and email.\nThe researchers managed to verify the leaked email accounts and found that 75 percent of users had one common password for social networking and accessing their email.\nAdditionally, the study revealed that 87 percent of email IDs, user names, and passwords gathered from various sources were still active.\\n', 'Cybercriminals could easily use this sensitive user data to hijack email accounts and social networking profiles and can further be used to spread spam and malware across those platforms.\\n', 'BitDefender has advised users to be extra careful while creating passwords for social networking and email accounts and avoid using the same password just for the sake of convenience.\nConsidering the fact that online collaboration tools are not that adept in protecting sensitive user information, users have been told to be more careful the next time they decided to share their emails, user names and passwords with a third party website.\\n', 'The study conducted by BitDefender follows the release of a torrent containing a list of 171 million Facebook users, complete with their names and Facebook URLs.\nThe security researcher who released the list for download explained that he was able to extract the names and URLs of Facebook users from a directory offered by the website itself.\nFacebook has maintained that the directory only contains the information users have themselves chosen to make public and can also be found via search engines.\\n']\n\nLexRank\nAccording to a week-long study conducted by Internet security company BitDefender, over 250,000 user names, email addresses, and passwords used for social networking sites can easily be found online.\n\nLuhn\nIt was found that 43 percent of the data was leaked from online collaboration tools while 21 percent of data was leaked from blog postings.\n\nLSA\nAccording to a week-long study conducted by Internet security company BitDefender, over 250,000 user names, email addresses, and passwords used for social networking sites can easily be found online.\n"
     ]
    }
   ],
   "source": [
    "url = \"https://www.securityweek.com/study-reveals-75-percent-individuals-use-same-password-social-networking-and-email\"\n",
    "parser = HtmlParser.from_url(url, Tokenizer(language))\n",
    "# or for plain text files\n",
    "f = open('K:/URECA\\corpus\\Study Reveals 75 Percent of Individuals Use Same Password for Social Networking and Email.txt',\"r\")\n",
    "content = str(f.readlines()[3:-7])\n",
    "f.close()\n",
    "parser2 = PlaintextParser.from_file(\"K:/URECA\\corpus\\Study Reveals 75 Percent of Individuals Use Same Password for Social Networking and Email.txt\", Tokenizer(language))\n",
    "parser3 = PlaintextParser.from_string(content, Tokenizer(language))\n",
    "test_lsa = PlaintextParser.from_string(\"Study Reveals 75 Percent of Individuals Use Same Password for Social Networking and Email\", Tokenizer(language))\n",
    "stemmer = Stemmer(language)\n",
    "LR = LexRank(stemmer)\n",
    "LU = Luhn(stemmer)\n",
    "lsa = LSA(stemmer)\n",
    "LR.stop_words = get_stop_words(language)\n",
    "print(\"Original Content:\\n\"+content)\n",
    "print('\\ntokenized content')\n",
    "for i in nltk.sent_tokenize(content, language):\n",
    "    print(i)\n",
    "'''\n",
    "print(\"\\nparser1\")\n",
    "for i in LR(parser.document, SENTENCES_COUNT):\n",
    "    print(i)\n",
    "print(\"\\nparser2\")\n",
    "for i in LR(parser2.document, SENTENCES_COUNT):\n",
    "    print(i)\n",
    "print(\"\\nparser3\")\n",
    "for i in LR(parser3.document, SENTENCES_COUNT):\n",
    "    print(i)\n",
    "#These three method are not applicable, comment liao.\n",
    "'''\n",
    "print(\"\\nLexRank\")\n",
    "for sentence in LR(parser.document, SENTENCES_COUNT):\n",
    "    print(sentence)\n",
    "print(\"\\nLuhn\")\n",
    "for sentence in LU(parser.document, SENTENCES_COUNT):\n",
    "    print(sentence)\n",
    "print(\"\\nLSA\")\n",
    "for sentence in lsa(parser.document, SENTENCES_COUNT):\n",
    "    print(sentence)\n"
   ]
  },
  {
   "cell_type": "code",
   "execution_count": 15,
   "metadata": {},
   "outputs": [
    {
     "name": "stdout",
     "output_type": "stream",
     "text": [
      "\n Study Reveals 75 Percent of Individuals Use Same Password for Social Networking and Email\n\n"
     ]
    }
   ],
   "source": [
    "#generated_title = str(summarizer(parser.document, SENTENCES_COUNT))\n",
    "f = open('K:/URECA\\corpus\\Study Reveals 75 Percent of Individuals Use Same Password for Social Networking and Email.txt',\"r\")\n",
    "reference = str(f.readlines()[2])\n",
    "f.close()\n",
    "\n",
    "print('\\n', reference)"
   ]
  },
  {
   "cell_type": "code",
   "execution_count": 54,
   "metadata": {
    "collapsed": false
   },
   "outputs": [
    {
     "name": "stdout",
     "output_type": "stream",
     "text": [
      "[{'rouge-1': {'f': 0.08888888460246935, 'p': 0.06451612903225806, 'r': 0.14285714285714285}, 'rouge-2': {'f': 0.0, 'p': 0.0, 'r': 0.0}, 'rouge-l': {'f': 0.035561702781079216, 'p': 0.03225806451612903, 'r': 0.07142857142857142}}]\n[{'rouge-1': {'f': 0.05882352456747445, 'p': 0.05, 'r': 0.07142857142857142}, 'rouge-2': {'f': 0.0, 'p': 0.0, 'r': 0.0}, 'rouge-l': {'f': 0.05547282203951612, 'p': 0.05, 'r': 0.07142857142857142}}]\n[{'rouge-1': {'f': 0.08888888460246935, 'p': 0.06451612903225806, 'r': 0.14285714285714285}, 'rouge-2': {'f': 0.0, 'p': 0.0, 'r': 0.0}, 'rouge-l': {'f': 0.035561702781079216, 'p': 0.03225806451612903, 'r': 0.07142857142857142}}]\n"
     ]
    },
    {
     "data": {
      "text/plain": [
       "[{'rouge-1': {'f': 0.08888888460246935,\n   'p': 0.06451612903225806,\n   'r': 0.14285714285714285},\n  'rouge-2': {'f': 0.0, 'p': 0.0, 'r': 0.0},\n  'rouge-l': {'f': 0.035561702781079216,\n   'p': 0.03225806451612903,\n   'r': 0.07142857142857142}}]"
      ]
     },
     "execution_count": 54,
     "metadata": {},
     "output_type": "execute_result"
    }
   ],
   "source": [
    "generated_title1 = str(LR(parser.document, SENTENCES_COUNT))\n",
    "generated_title2 = str(LU(parser.document, SENTENCES_COUNT))\n",
    "generated_title3 = str(lsa(parser.document, SENTENCES_COUNT))\n",
    "from rouge import Rouge\n",
    "rouge = Rouge()\n",
    "print(rouge.get_scores(generated_title1, reference))\n",
    "print(rouge.get_scores(generated_title2, reference))\n",
    "print(rouge.get_scores(generated_title3, reference))"
   ]
  },
  {
   "cell_type": "code",
   "execution_count": null,
   "metadata": {},
   "outputs": [],
   "source": []
  }
 ],
 "metadata": {
  "kernelspec": {
   "display_name": "Python 3",
   "language": "python",
   "name": "python3"
  },
  "language_info": {
   "codemirror_mode": {
    "name": "ipython",
    "version": 3
   },
   "file_extension": ".py",
   "mimetype": "text/x-python",
   "name": "python",
   "nbconvert_exporter": "python",
   "pygments_lexer": "ipython3",
   "version": "3.6.5"
  }
 },
 "nbformat": 4,
 "nbformat_minor": 1
}
